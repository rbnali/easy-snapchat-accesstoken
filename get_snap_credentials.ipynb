{
 "cells": [
  {
   "cell_type": "code",
   "execution_count": null,
   "metadata": {
    "collapsed": true,
    "scrolled": true
   },
   "outputs": [],
   "source": [
    "import json\n",
    "from requests_oauthlib import OAuth2Session\n",
    "import requests"
   ]
  },
  {
   "cell_type": "markdown",
   "metadata": {},
   "source": [
    "# 0 - Import your credentials"
   ]
  },
  {
   "cell_type": "code",
   "execution_count": null,
   "metadata": {},
   "outputs": [],
   "source": [
    "with open('snapchat_credentials.json', 'r') as f:\n",
    "    snap_credentials = json.load(f)\n",
    "snap_credentials"
   ]
  },
  {
   "cell_type": "markdown",
   "metadata": {},
   "source": [
    "# 1 - Generate access token from client_ID and client_secret"
   ]
  },
  {
   "cell_type": "code",
   "execution_count": null,
   "metadata": {
    "collapsed": true
   },
   "outputs": [],
   "source": [
    "scope = ['snapchat-marketing-api']\n",
    "authorize_url = 'https://accounts.snapchat.com/login/oauth2/authorize'\n",
    "access_token_url = 'https://accounts.snapchat.com/login/oauth2/access_token'\n",
    "protected_url = 'https://adsapi.snapchat.com/v1/me/organizations'"
   ]
  },
  {
   "cell_type": "code",
   "execution_count": null,
   "metadata": {},
   "outputs": [],
   "source": [
    "oauth = OAuth2Session(\n",
    "    snap_credentials['client_id'],\n",
    "    redirect_uri=snap_credentials['redirect_url'],\n",
    "    scope=scope\n",
    ")"
   ]
  },
  {
   "cell_type": "code",
   "execution_count": null,
   "metadata": {
    "scrolled": true
   },
   "outputs": [],
   "source": [
    "authorization_url, state = oauth.authorization_url(authorize_url)\n",
    "print('Please go to %s and authorize access.' % authorization_url)"
   ]
  },
  {
   "cell_type": "code",
   "execution_count": null,
   "metadata": {},
   "outputs": [],
   "source": [
    "authorization_response = input('Enter the full callback URL: ')"
   ]
  },
  {
   "cell_type": "code",
   "execution_count": null,
   "metadata": {
    "collapsed": true
   },
   "outputs": [],
   "source": [
    "token = oauth.fetch_token(\n",
    "    access_token_url,\n",
    "    authorization_response=authorization_response,\n",
    "    client_secret=snap_credentials['client_secret'],\n",
    "    scope=scope\n",
    ")"
   ]
  },
  {
   "cell_type": "code",
   "execution_count": null,
   "metadata": {},
   "outputs": [],
   "source": [
    "snap_credentials['access_token'] = oauth.token['access_token']\n",
    "snap_credentials['refresh_token'] = oauth.token['refresh_token']"
   ]
  },
  {
   "cell_type": "markdown",
   "metadata": {},
   "source": [
    "# 2 - Generate access token from refresh_token"
   ]
  },
  {
   "cell_type": "code",
   "execution_count": null,
   "metadata": {
    "collapsed": true
   },
   "outputs": [],
   "source": [
    "access_params = {\n",
    "    'client_id': snap_credentials['client_id'],\n",
    "    'client_secret': snap_credentials['client_secret'],\n",
    "    'code': snap_credentials['refresh_token'], # Get it in first step in redirect URL\n",
    "    'grant_type': 'refresh_token',\n",
    "}"
   ]
  },
  {
   "cell_type": "code",
   "execution_count": null,
   "metadata": {
    "collapsed": true
   },
   "outputs": [],
   "source": [
    "res = requests.post(\n",
    "    access_token_url,\n",
    "    params = access_params\n",
    ")"
   ]
  },
  {
   "cell_type": "code",
   "execution_count": null,
   "metadata": {},
   "outputs": [],
   "source": [
    "snap_credentials['access_token'] = res.json()['access_token']\n",
    "snap_credentials['refresh_token'] = res.json()['refresh_token']\n",
    "snap_credentials"
   ]
  }
 ],
 "metadata": {
  "kernelspec": {
   "display_name": "Python 3",
   "language": "python",
   "name": "python3"
  },
  "language_info": {
   "codemirror_mode": {
    "name": "ipython",
    "version": 3
   },
   "file_extension": ".py",
   "mimetype": "text/x-python",
   "name": "python",
   "nbconvert_exporter": "python",
   "pygments_lexer": "ipython3",
   "version": "3.6.8"
  }
 },
 "nbformat": 4,
 "nbformat_minor": 2
}
