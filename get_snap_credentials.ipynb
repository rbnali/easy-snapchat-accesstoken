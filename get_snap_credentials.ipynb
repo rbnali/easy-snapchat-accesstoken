{
 "cells": [
  {
   "cell_type": "code",
   "execution_count": 24,
   "metadata": {
    "collapsed": true,
    "scrolled": true
   },
   "outputs": [],
   "source": [
    "import json\n",
    "from requests_oauthlib import OAuth2Session"
   ]
  },
  {
   "cell_type": "markdown",
   "metadata": {},
   "source": [
    "# 0 - Import your credentials"
   ]
  },
  {
   "cell_type": "code",
   "execution_count": 32,
   "metadata": {},
   "outputs": [
    {
     "data": {
      "text/plain": [
       "{'client_id': 'YOUR_CLIENT_ID',\n",
       " 'client_secret': 'YOUR_CLIENT_SECRET',\n",
       " 'redirect_url': 'YOUR_REDIRECT_URL'}"
      ]
     },
     "execution_count": 32,
     "metadata": {},
     "output_type": "execute_result"
    }
   ],
   "source": [
    "with open('snapchat_credentials.json', 'r') as f:\n",
    "    snap_credentials = json.load(f)\n",
    "snap_credentials"
   ]
  },
  {
   "cell_type": "markdown",
   "metadata": {},
   "source": [
    "# 1 - Generate access token from client_ID and client_secret"
   ]
  },
  {
   "cell_type": "code",
   "execution_count": 33,
   "metadata": {
    "collapsed": true
   },
   "outputs": [],
   "source": [
    "scope = ['snapchat-marketing-api']\n",
    "authorize_url = 'https://accounts.snapchat.com/login/oauth2/authorize'\n",
    "access_token_url = 'https://accounts.snapchat.com/login/oauth2/access_token'\n",
    "protected_url = 'https://adsapi.snapchat.com/v1/me/organizations'"
   ]
  },
  {
   "cell_type": "code",
   "execution_count": 34,
   "metadata": {},
   "outputs": [],
   "source": [
    "oauth = OAuth2Session(\n",
    "    snap_credentials['client_id'],\n",
    "    redirect_uri=snap_credentials['redirect_url'],\n",
    "    scope=scope\n",
    ")"
   ]
  },
  {
   "cell_type": "code",
   "execution_count": 35,
   "metadata": {
    "scrolled": true
   },
   "outputs": [
    {
     "name": "stdout",
     "output_type": "stream",
     "text": [
      "Please go to https://accounts.snapchat.com/login/oauth2/authorize?response_type=code&client_id=YOUR_CLIENT_ID&redirect_uri=YOUR_REDIRECT_URL&scope=snapchat-marketing-api&state=MeuvUmYOPkEawaZc97wH8lgvMKDRvn and authorize access.\n"
     ]
    }
   ],
   "source": [
    "authorization_url, state = oauth.authorization_url(authorize_url)\n",
    "print('Please go to %s and authorize access.' % authorization_url)"
   ]
  },
  {
   "cell_type": "code",
   "execution_count": 37,
   "metadata": {},
   "outputs": [],
   "source": [
    "authorization_response = input('Enter the full callback URL: ')"
   ]
  },
  {
   "cell_type": "code",
   "execution_count": null,
   "metadata": {
    "collapsed": true
   },
   "outputs": [],
   "source": [
    "token = oauth.fetch_token(\n",
    "    access_token_url,\n",
    "    authorization_response=authorization_response,\n",
    "    client_secret=snap_credentials['client_secret'],\n",
    "    scope=scope\n",
    ")"
   ]
  },
  {
   "cell_type": "code",
   "execution_count": null,
   "metadata": {},
   "outputs": [],
   "source": [
    "oauth.token"
   ]
  }
 ],
 "metadata": {
  "kernelspec": {
   "display_name": "Python 3",
   "language": "python",
   "name": "python3"
  },
  "language_info": {
   "codemirror_mode": {
    "name": "ipython",
    "version": 3
   },
   "file_extension": ".py",
   "mimetype": "text/x-python",
   "name": "python",
   "nbconvert_exporter": "python",
   "pygments_lexer": "ipython3",
   "version": "3.6.8"
  }
 },
 "nbformat": 4,
 "nbformat_minor": 2
}
